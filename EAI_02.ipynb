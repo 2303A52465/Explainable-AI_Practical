{
  "nbformat": 4,
  "nbformat_minor": 0,
  "metadata": {
    "colab": {
      "provenance": [],
      "authorship_tag": "ABX9TyNK9Hs0QE3uFjL/2X+Je+yZ",
      "include_colab_link": true
    },
    "kernelspec": {
      "name": "python3",
      "display_name": "Python 3"
    },
    "language_info": {
      "name": "python"
    }
  },
  "cells": [
    {
      "cell_type": "markdown",
      "metadata": {
        "id": "view-in-github",
        "colab_type": "text"
      },
      "source": [
        "<a href=\"https://colab.research.google.com/github/2303A52465/Explainable-AI_Practical/blob/main/EAI_02.ipynb\" target=\"_parent\"><img src=\"https://colab.research.google.com/assets/colab-badge.svg\" alt=\"Open In Colab\"/></a>"
      ]
    },
    {
      "cell_type": "code",
      "execution_count": null,
      "metadata": {
        "colab": {
          "base_uri": "https://localhost:8080/"
        },
        "id": "DUv5AWyW4sLC",
        "outputId": "c563db22-9907-4367-c577-c64fcf62458e"
      },
      "outputs": [
        {
          "output_type": "stream",
          "name": "stdout",
          "text": [
            "Initial Weights: w0=0, w1=1.2, w2=0.6\n",
            "\n",
            "Epoch: 1\n",
            "  Input: x1=0.4, x2=0.5, Target: 1, Prediction: 1, Error: 0\n",
            "  Updated Weights: w0=0.0000, w1=1.2000, w2=0.6000\n",
            "  Input: x1=0.3, x2=0.8, Target: 1, Prediction: 1, Error: 0\n",
            "  Updated Weights: w0=0.0000, w1=1.2000, w2=0.6000\n",
            "  Input: x1=0.2, x2=0.9, Target: 1, Prediction: 1, Error: 0\n",
            "  Updated Weights: w0=0.0000, w1=1.2000, w2=0.6000\n",
            "  Input: x1=0.1, x2=0.1, Target: 0, Prediction: 1, Error: -1\n",
            "  Updated Weights: w0=-0.5000, w1=1.1500, w2=0.5500\n",
            "\n",
            "Final Weights: w0=-0.5000, w1=1.1500, w2=0.5500\n",
            "\n",
            "Testing the trained perceptron:\n",
            "  Input: x1=0.4, x2=0.5, Predicted Output: 1\n",
            "  Input: x1=0.3, x2=0.8, Predicted Output: 1\n",
            "  Input: x1=0.2, x2=0.9, Predicted Output: 1\n",
            "  Input: x1=0.1, x2=0.1, Predicted Output: 0\n"
          ]
        }
      ],
      "source": [
        "x0 = [1, 1, 1, 1]\n",
        "x1 = [0.4, 0.3, 0.2, 0.1]\n",
        "x2 = [0.5, 0.8, 0.9, 0.1]\n",
        "y = [1, 1, 1, 0]\n",
        "w0 = 0\n",
        "w1 = 1.2\n",
        "w2 = 0.6\n",
        "learning_rate = 0.5\n",
        "epochs = 1\n",
        "print(\"Initial Weights: w0={}, w1={}, w2={}\".format(w0, w1, w2))\n",
        "for epoch in range(epochs):\n",
        "    print(\"\\nEpoch:\", epoch + 1)\n",
        "    for i in range(len(x1)):\n",
        "        net_input = (x0[i] * w0) + (x1[i] * w1) + (x2[i] * w2)\n",
        "        if net_input >= 0:\n",
        "            prediction = 1\n",
        "        else:\n",
        "            prediction = 0\n",
        "        error = y[i] - prediction\n",
        "        w0 = w0 + learning_rate * error * x0[i]\n",
        "        w1 = w1 + learning_rate * error * x1[i]\n",
        "        w2 = w2 + learning_rate * error * x2[i]\n",
        "        print(\"  Input: x1={}, x2={}, Target: {}, Prediction: {}, Error: {}\".format(x1[i], x2[i], y[i], prediction, error))\n",
        "        print(\"  Updated Weights: w0={:.4f}, w1={:.4f}, w2={:.4f}\".format(w0, w1, w2))\n",
        "print(\"\\nFinal Weights: w0={:.4f}, w1={:.4f}, w2={:.4f}\".format(w0, w1, w2))\n",
        "print(\"\\nTesting the trained perceptron:\")\n",
        "for i in range(len(x1)):\n",
        "    net_input = (x0[i] * w0) + (x1[i] * w1) + (x2[i] * w2)\n",
        "    if net_input >= 0:\n",
        "        prediction = 1\n",
        "    else:\n",
        "        prediction = 0\n",
        "    print(\"  Input: x1={}, x2={}, Predicted Output: {}\".format(x1[i], x2[i], prediction))"
      ]
    },
    {
      "cell_type": "code",
      "source": [],
      "metadata": {
        "id": "_YMm0Yk778Ap"
      },
      "execution_count": null,
      "outputs": []
    }
  ]
}